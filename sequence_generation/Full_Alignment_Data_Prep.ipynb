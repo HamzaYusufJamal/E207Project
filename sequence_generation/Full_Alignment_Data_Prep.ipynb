{
 "cells": [
  {
   "cell_type": "markdown",
   "metadata": {},
   "source": [
    "## Data preparation of four scenarios for the full alignment case"
   ]
  },
  {
   "cell_type": "code",
   "execution_count": 1,
   "metadata": {
    "vscode": {
     "languageId": "plaintext"
    }
   },
   "outputs": [],
   "source": [
    "import numpy as np\n",
    "import librosa as lb\n",
    "import soundfile as sf\n",
    "from pathlib import Path\n",
    "import matplotlib.pyplot as plt"
   ]
  },
  {
   "cell_type": "markdown",
   "metadata": {
    "vscode": {
     "languageId": "plaintext"
    }
   },
   "source": [
    "Before we generate 4 different scenarios, we first define a function `splice_audio`."
   ]
  },
  {
   "cell_type": "code",
   "execution_count": 2,
   "metadata": {},
   "outputs": [],
   "source": [
    "def splice_audio(audio, start_sec, end_sec, sr):\n",
    "    return audio[int(start_sec * sr): int(end_sec * sr)]"
   ]
  },
  {
   "cell_type": "markdown",
   "metadata": {},
   "source": [
    "Define the pathway"
   ]
  },
  {
   "cell_type": "code",
   "execution_count": 3,
   "metadata": {},
   "outputs": [],
   "source": [
    "op17no4_1981_path = Path('Alignment_Data/Chopin_Op017No4_Ashkenazy-1981_pid9058-13.wav')\n",
    "op17no4_1995_path = Path('Alignment_Data/Chopin_Op017No4_Block-1995_pid9064-04.wav')\n",
    "op63no3_path = Path('Alignment_Data/Chopin_Op063No3_Morozova-2008_pid610633-04.wav')"
   ]
  },
  {
   "cell_type": "markdown",
   "metadata": {},
   "source": [
    "Load the audio file with `librosa`"
   ]
  },
  {
   "cell_type": "code",
   "execution_count": 7,
   "metadata": {},
   "outputs": [],
   "source": [
    "op17no4_1981, sr_1 = lb.load(op17no4_1981_path)\n",
    "op17no4_1995, sr_2 = lb.load(op17no4_1995_path)\n",
    "op63no3_2008, sr_3 = lb.load(op63no3_path)"
   ]
  },
  {
   "cell_type": "markdown",
   "metadata": {},
   "source": [
    "### Scenario I: Matching\n",
    "- In this case, we use `Op17No4_1981` and `Op17No4_1995`\n",
    "- In this case, we align two complete recordings of the same Mazurka"
   ]
  },
  {
   "cell_type": "markdown",
   "metadata": {},
   "source": [
    "if the sampling rates of Op17_1981 and Op17_1995 are not the same"
   ]
  },
  {
   "cell_type": "code",
   "execution_count": 5,
   "metadata": {},
   "outputs": [],
   "source": [
    "if sr_1 != sr_2:\n",
    "    op17no4_1995 = librosa.resample(op17no4_1995, orig_sr=sr_2, target_sr=sr_1)"
   ]
  },
  {
   "cell_type": "code",
   "execution_count": 6,
   "metadata": {},
   "outputs": [],
   "source": [
    "sf.write('Full_Alignment_Recordings/Scenario_1/full_align_matching_recording1.wav', op17no4_1981, sr_1)\n",
    "sf.write('Full_Alignment_Recordings/Scenario_1/full_align_matching_recording2.wav', op17no4_1995, sr_1)"
   ]
  },
  {
   "cell_type": "markdown",
   "metadata": {},
   "source": [
    "### Scenario II: Non-matching\n",
    "- In this case, we use `Op17No4_1981` and `Op63No3_2008`\n",
    "- In this case, we align two complete recordings of different Mazurkas"
   ]
  },
  {
   "cell_type": "markdown",
   "metadata": {},
   "source": [
    "if the sampling rates of Op17_1981 and Op17_1995 are not the same"
   ]
  },
  {
   "cell_type": "code",
   "execution_count": 8,
   "metadata": {},
   "outputs": [],
   "source": [
    "if sr_1 != sr_3:\n",
    "    op63no3_2008 = librosa.resample(op63no3_2008, orig_sr=sr_3, target_sr=sr_1)"
   ]
  },
  {
   "cell_type": "code",
   "execution_count": 9,
   "metadata": {},
   "outputs": [],
   "source": [
    "sf.write('Full_Alignment_Recordings/Scenario_2/full_align_non_matching_recording1.wav', op17no4_1981, sr_1)\n",
    "sf.write('Full_Alignment_Recordings/Scenario_2/full_align_non_matching_recording2.wav', op63no3_2008, sr_1)"
   ]
  },
  {
   "cell_type": "markdown",
   "metadata": {},
   "source": [
    "### Scenario III: Matching with a mismatching region in the middle\n",
    "- In this case, we use `Op17No4_1981`, `Op17No4_1995` and `Op63No3_2008`\n",
    "- Recording A: `Op17No4_1981`\n",
    "- Recording B: `Op17No4_1995`, where a 30s chunk in the middle is spliced out and replaced with a 30s chunk from `Op63No3_2008`"
   ]
  },
  {
   "cell_type": "code",
   "execution_count": 14,
   "metadata": {},
   "outputs": [],
   "source": [
    "def add_chunk(chunk_sec, main_audio, chunk_audio, sr=22050):\n",
    "    half_len_main = len(main_audio)//2\n",
    "    half_len_chunk = len(chunk_audio)//2\n",
    "\n",
    "    # Calculate the start sample of the 30s chunk in the middle of main audio & chunk audio\n",
    "    start_main = half_len_main - (chunk_sec * sr // 2)\n",
    "    start_chunk = half_len_chunk - (chunk_sec * sr // 2)\n",
    "\n",
    "    # Splice out the 30s chunk from main audio and replace with a chunk from chunk audio\n",
    "    samples = chunk_sec * sr\n",
    "    replacement = chunk_audio[start_chunk : start_chunk+samples]\n",
    "    recording_b = np.concatenate([\n",
    "        main_audio[:start_main],\n",
    "        replacement,\n",
    "        main_audio[start_main+samples:]\n",
    "    ])\n",
    "\n",
    "    return recording_b"
   ]
  },
  {
   "cell_type": "markdown",
   "metadata": {},
   "source": [
    "Compute the Recording B"
   ]
  },
  {
   "cell_type": "code",
   "execution_count": 12,
   "metadata": {},
   "outputs": [],
   "source": [
    "recording_b = add_chunk(30, op17no4_1995, op63no3_2008)"
   ]
  },
  {
   "cell_type": "code",
   "execution_count": 13,
   "metadata": {},
   "outputs": [],
   "source": [
    "sf.write('Full_Alignment_Recordings/Scenario_3/full_align_M_Mid_misM_recordingA.wav', op17no4_1981, sr_1)\n",
    "sf.write('Full_Alignment_Recordings/Scenario_3/full_align_M_Mid_misM_recordingB.wav', recording_b, sr_2)"
   ]
  },
  {
   "cell_type": "markdown",
   "metadata": {},
   "source": [
    "### Scenario IV: Non-Matching with a matching region in the middle\n",
    "- In this case, we use `Op17No4_1981`, `Op17No4_1995` and `Op63No3_2008`\n",
    "- Recording A: `Op17No4_1981`\n",
    "- Recording B: `Op63No3_2008`, where a 30s chunk in the middle is spliced out and replaced with a 30s chunk from `Op17No4_1995`"
   ]
  },
  {
   "cell_type": "code",
   "execution_count": 15,
   "metadata": {},
   "outputs": [],
   "source": [
    "recording_b = add_chunk(30, op63no3_2008, op17no4_1995)"
   ]
  },
  {
   "cell_type": "code",
   "execution_count": 16,
   "metadata": {},
   "outputs": [],
   "source": [
    "sf.write('Full_Alignment_Recordings/Scenario_4/full_align_NM_Mid_M_recordingA.wav', op17no4_1981, sr_1)\n",
    "sf.write('Full_Alignment_Recordings/Scenario_4/full_align_NM_Mid_M_recordingB.wav', recording_b, sr_2)"
   ]
  },
  {
   "cell_type": "code",
   "execution_count": 29,
   "metadata": {},
   "outputs": [],
   "source": [
    "# plt.figure(figsize=(12, 6))\n",
    "# plt.plot(recording_b)\n",
    "# plt.show()"
   ]
  },
  {
   "cell_type": "code",
   "execution_count": 28,
   "metadata": {},
   "outputs": [],
   "source": [
    "# plt.figure(figsize=(12, 6))\n",
    "# plt.plot(op17no4_1981)\n",
    "# plt.show()"
   ]
  },
  {
   "cell_type": "code",
   "execution_count": null,
   "metadata": {},
   "outputs": [],
   "source": []
  }
 ],
 "metadata": {
  "kernelspec": {
   "display_name": "E207_project",
   "language": "python",
   "name": "e207_project"
  },
  "language_info": {
   "codemirror_mode": {
    "name": "ipython",
    "version": 3
   },
   "file_extension": ".py",
   "mimetype": "text/x-python",
   "name": "python",
   "nbconvert_exporter": "python",
   "pygments_lexer": "ipython3",
   "version": "3.11.8"
  }
 },
 "nbformat": 4,
 "nbformat_minor": 4
}
