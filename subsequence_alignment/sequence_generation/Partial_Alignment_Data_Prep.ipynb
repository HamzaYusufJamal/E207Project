{
 "cells": [
  {
   "cell_type": "markdown",
   "metadata": {},
   "source": [
    "## Data preparation of four scenarios for the full alignment case"
   ]
  },
  {
   "cell_type": "code",
   "execution_count": 109,
   "metadata": {},
   "outputs": [],
   "source": [
    "import numpy as np\n",
    "import librosa as lb\n",
    "import soundfile as sf\n",
    "from pathlib import Path\n",
    "import matplotlib.pyplot as plt"
   ]
  },
  {
   "cell_type": "markdown",
   "metadata": {
    "vscode": {
     "languageId": "plaintext"
    }
   },
   "source": [
    "Before we generate 4 different scenarios, we first define a function `splice_audio`."
   ]
  },
  {
   "cell_type": "code",
   "execution_count": 110,
   "metadata": {},
   "outputs": [],
   "source": [
    "def splice_audio(audio, start_sec, end_sec, sr):\n",
    "    return audio[int(start_sec * sr): int(end_sec * sr)]\n",
    "\n",
    "current_path = Path('.')\n",
    "base_path = Path('/home/hjamal/ttmp/E207Project')"
   ]
  },
  {
   "cell_type": "markdown",
   "metadata": {},
   "source": [
    "Define the pathway"
   ]
  },
  {
   "cell_type": "code",
   "execution_count": 111,
   "metadata": {},
   "outputs": [],
   "source": [
    "train_data_path = base_path / 'train_data'\n",
    "op17no4_1981_path = train_data_path / 'Chopin_Op017No4_Ashkenazy-1981_pid9058-13.wav'\n",
    "op17no4_1995_path = train_data_path / 'Chopin_Op017No4_Block-1995_pid9064-04.wav'\n",
    "op63no3_path = train_data_path / 'Chopin_Op063No3_Morozova-2008_pid610633-04.wav'"
   ]
  },
  {
   "cell_type": "markdown",
   "metadata": {},
   "source": [
    "Load the audio file with `librosa`"
   ]
  },
  {
   "cell_type": "code",
   "execution_count": 112,
   "metadata": {},
   "outputs": [],
   "source": [
    "op17no4_1981, sr_1 = lb.load(op17no4_1981_path)\n",
    "op17no4_1995, sr_2 = lb.load(op17no4_1995_path)\n",
    "op63no3_2008, sr_3 = lb.load(op63no3_path)"
   ]
  },
  {
   "cell_type": "markdown",
   "metadata": {},
   "source": [
    "### Scenario I: Matching\n",
    "- In this case, we use 30 seconds of `Op17No4_1981` and the full sequence of `Op17No4_1995`\n",
    "- In this case, we align a subsequence of a song with a different full recording of the same song\n",
    "- Recording 1 will be the shorter sequence in each scenario"
   ]
  },
  {
   "cell_type": "markdown",
   "metadata": {},
   "source": [
    "if the sampling rates of Op17_1981 and Op17_1995 are not the same"
   ]
  },
  {
   "cell_type": "code",
   "execution_count": 113,
   "metadata": {},
   "outputs": [],
   "source": [
    "if sr_1 != sr_2:\n",
    "    op17no4_1995 = librosa.resample(op17no4_1995, orig_sr=sr_2, target_sr=sr_1)"
   ]
  },
  {
   "cell_type": "code",
   "execution_count": 114,
   "metadata": {},
   "outputs": [],
   "source": [
    "soundfiles_path = current_path / 'subsequence_soundfiles/'\n",
    "scenario1_destination = soundfiles_path / 'scenario_1/'\n",
    "sf.write(scenario1_destination / 'partial_align_matching_recording1.wav', splice_audio(op17no4_1981, 10, 40, sr_1), sr_1)\n",
    "sf.write(scenario1_destination / 'partial_align_matching_recording2.wav', op17no4_1995, sr_1)"
   ]
  },
  {
   "cell_type": "markdown",
   "metadata": {},
   "source": [
    "### Scenario II: Non-matching\n",
    "- In this case, we use `Op17No4_1981` and `Op63No3_2008`\n",
    "- In this case, we align a subsequence of the first recording with a complete recording of different Mazurka"
   ]
  },
  {
   "cell_type": "markdown",
   "metadata": {},
   "source": [
    "if the sampling rates of Op17_1981 and Op17_1995 are not the same"
   ]
  },
  {
   "cell_type": "code",
   "execution_count": 115,
   "metadata": {},
   "outputs": [],
   "source": [
    "if sr_1 != sr_3:\n",
    "    op63no3_2008 = librosa.resample(op63no3_2008, orig_sr=sr_3, target_sr=sr_1)"
   ]
  },
  {
   "cell_type": "code",
   "execution_count": 116,
   "metadata": {},
   "outputs": [],
   "source": [
    "scenario2_destination = soundfiles_path / 'scenario_2/'\n",
    "sf.write(scenario2_destination / 'partial_align_non_matching_recording1.wav', splice_audio(op17no4_1981, 10, 40, sr_1), sr_1)\n",
    "sf.write(scenario2_destination / 'partial_align_non_matching_recording2.wav', op63no3_2008, sr_1)"
   ]
  },
  {
   "cell_type": "markdown",
   "metadata": {},
   "source": [
    "### Scenario III: Matching with a mismatching region in the middle\n",
    "- In this case, we use `Op17No4_1981`, `Op17No4_1995` and `Op63No3_2008`\n",
    "- Recording 1: 30s of `Op17No4_1995`, where a 10s chunk in the middle is spliced out and replaced with a 10s chunk from `Op63No3_2008`\n",
    "- Recording 2: `Op17No4_1981`"
   ]
  },
  {
   "cell_type": "code",
   "execution_count": 117,
   "metadata": {},
   "outputs": [],
   "source": [
    "def add_chunk(chunk_sec, main_audio, chunk_audio, sr=22050):\n",
    "    half_len_main = len(main_audio)//2\n",
    "    half_len_chunk = len(chunk_audio)//2\n",
    "\n",
    "    # Calculate the start sample of the 30s chunk in the middle of main audio & chunk audio\n",
    "    start_main = half_len_main - (chunk_sec * sr // 2)\n",
    "    start_chunk = half_len_chunk - (chunk_sec * sr // 2)\n",
    "\n",
    "    # Splice out the 30s chunk from main audio and replace with a chunk from chunk audio\n",
    "    samples = chunk_sec * sr\n",
    "    replacement = chunk_audio[start_chunk : start_chunk+samples]\n",
    "    recording_b = np.concatenate([\n",
    "        main_audio[:start_main],\n",
    "        replacement,\n",
    "        main_audio[start_main+samples:]\n",
    "    ])\n",
    "\n",
    "    return recording_b"
   ]
  },
  {
   "cell_type": "markdown",
   "metadata": {},
   "source": [
    "Compute the Recording B"
   ]
  },
  {
   "cell_type": "code",
   "execution_count": 118,
   "metadata": {},
   "outputs": [],
   "source": [
    "recording_1 = add_chunk(10, splice_audio(op17no4_1995, 10, 40, sr_1), splice_audio(op63no3_2008, 20, 30, sr_1))"
   ]
  },
  {
   "cell_type": "code",
   "execution_count": 119,
   "metadata": {},
   "outputs": [],
   "source": [
    "scenario3_destination = soundfiles_path / 'scenario_3/'\n",
    "\n",
    "sf.write(scenario3_destination / 'partial_align_mid_mismatch_recording1.wav', recording_1, sr_1)\n",
    "sf.write(scenario3_destination / 'partial_align_mid_mismatch_recording2.wav', op17no4_1981, sr_2)"
   ]
  },
  {
   "cell_type": "markdown",
   "metadata": {},
   "source": [
    "### Scenario IV: Non-Matching with a matching region in the middle\n",
    "- In this case, we use `Op17No4_1981`, `Op17No4_1995` and `Op63No3_2008`\n",
    "- Recording 1: 30s of `Op63No3_2008`, where a 10s chunk in the middle is spliced out and replaced with a 10s chunk from `Op17No4_1995`\n",
    "- Recording 2: `Op17No4_1981`\n"
   ]
  },
  {
   "cell_type": "code",
   "execution_count": 120,
   "metadata": {},
   "outputs": [],
   "source": [
    "recording_1 = add_chunk(10, splice_audio(op63no3_2008, 10, 40, sr_1), splice_audio(op17no4_1995, 20, 30, sr_1))"
   ]
  },
  {
   "cell_type": "code",
   "execution_count": 121,
   "metadata": {},
   "outputs": [],
   "source": [
    "scenario4_destination = soundfiles_path / 'scenario_4/'\n",
    "\n",
    "sf.write(scenario4_destination / 'partial_align_mid_match_recording1.wav', recording_1, sr_1)\n",
    "sf.write(scenario4_destination / 'partial_align_mid_match_recording2.wav', op17no4_1981, sr_2)"
   ]
  }
 ],
 "metadata": {
  "kernelspec": {
   "display_name": "E207_Project",
   "language": "python",
   "name": "e207_project"
  },
  "language_info": {
   "codemirror_mode": {
    "name": "ipython",
    "version": 3
   },
   "file_extension": ".py",
   "mimetype": "text/x-python",
   "name": "python",
   "nbconvert_exporter": "python",
   "pygments_lexer": "ipython3",
   "version": "3.11.9"
  }
 },
 "nbformat": 4,
 "nbformat_minor": 4
}
