{
 "cells": [
  {
   "cell_type": "code",
   "execution_count": 1,
   "id": "094c3eed-3e1a-4b0c-baf0-1ac548186b59",
   "metadata": {},
   "outputs": [],
   "source": [
    "import numpy as np"
   ]
  },
  {
   "cell_type": "code",
   "execution_count": 2,
   "id": "c7cf765d-4029-4861-a257-5e575ac2a987",
   "metadata": {},
   "outputs": [],
   "source": [
    "def plot_single_valley(D, start_point, col_indexing=True):\n",
    "    (a, b) = D.shape\n",
    "    if col_indexing: \n",
    "        num_points = start_point+1\n",
    "        points = np.zeros(num_points,)\n",
    "        i, j = 0, start_point\n",
    "        for counter in range(num_points):\n",
    "            points[counter] = D[i,j]\n",
    "            i += 1\n",
    "            j -= 1\n",
    "    else: \n",
    "        num_points = np.min(b, a-start_point)\n",
    "        points = np.zeros(num_points,)\n",
    "        i,j = start_point, b-1\n",
    "        for counter in range(num_points):\n",
    "            points[counter] = D[i,j]\n",
    "            i += 1\n",
    "            j -= 1\n",
    "    return points"
   ]
  },
  {
   "cell_type": "code",
   "execution_count": 3,
   "id": "9dda0a75-9741-4ae9-86cf-2cb8d2a5f52a",
   "metadata": {},
   "outputs": [],
   "source": [
    "def calc_valley_width(points, iplusj=None):\n",
    "    mean = np.mean(points)\n",
    "    width = len(points) - np.sum((points - mean) > 0)\n",
    "    if iplusj is not None:\n",
    "        width /= iplusj\n",
    "    return width"
   ]
  }
 ],
 "metadata": {
  "kernelspec": {
   "display_name": "E207_Project",
   "language": "python",
   "name": "e207_project"
  },
  "language_info": {
   "codemirror_mode": {
    "name": "ipython",
    "version": 3
   },
   "file_extension": ".py",
   "mimetype": "text/x-python",
   "name": "python",
   "nbconvert_exporter": "python",
   "pygments_lexer": "ipython3",
   "version": "3.11.9"
  }
 },
 "nbformat": 4,
 "nbformat_minor": 5
}
