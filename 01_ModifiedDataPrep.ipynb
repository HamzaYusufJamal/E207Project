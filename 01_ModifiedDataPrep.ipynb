{
  "cells": [
    {
      "cell_type": "markdown",
      "metadata": {
        "id": "zfc15PBtVxlv"
      },
      "source": [
        "# Data Prep"
      ]
    },
    {
      "cell_type": "markdown",
      "metadata": {
        "id": "zY0GhoAgVxlx"
      },
      "source": [
        "The goal of this notebook is to prep the data for the alignment task.  This includes computing audio features and generating a query list."
      ]
    },
    {
      "cell_type": "code",
      "execution_count": 3,
      "metadata": {
        "id": "_oginy1HVxlx"
      },
      "outputs": [],
      "source": [
        "import numpy as np\n",
        "import librosa as lb\n",
        "import os\n",
        "import os.path\n",
        "from pathlib import Path\n",
        "import multiprocessing\n",
        "import glob"
      ]
    },
    {
      "cell_type": "code",
      "execution_count": 4,
      "metadata": {
        "id": "vt5d4AVxVxly"
      },
      "outputs": [],
      "source": [
        "ANNOTATIONS_ROOT = Path('train_data/beat')\n",
        "AUDIO_ROOT = ('Full_Alignment_Recordings')\n",
        "FEATURES_ROOT = Path('features')\n",
        "Scenario_1_files = 'Full_Alignment_Recordings/Scenario_1'\n",
        "Scenario_2_files = 'Full_Alignment_Recordings/Scenario_2'\n",
        "Scenario_3_files = 'Full_Alignment_Recordings/Scenario_3'\n",
        "Scenario_4_files = 'Full_Alignment_Recordings/Scenario_4'"
      ]
    },
    {
      "cell_type": "code",
      "execution_count": 5,
      "metadata": {
        "id": "LUjJzfc7Vxly",
        "outputId": "a9c2a74a-e40c-46c4-95fe-f9dfccf7993b"
      },
      "outputs": [
        {
          "name": "stdout",
          "output_type": "stream",
          "text": [
            "8\n"
          ]
        }
      ],
      "source": [
        "scenario1files = glob.glob(Scenario_1_files + \"/*\")\n",
        "scenario2files = glob.glob(Scenario_2_files + \"/*\")\n",
        "scenario3files = glob.glob(Scenario_3_files + \"/*\")\n",
        "scenario4files = glob.glob(Scenario_4_files + \"/*\")\n",
        "inFiles = []\n",
        "for file in scenario1files:\n",
        "    inFiles.append(file)\n",
        "for file in scenario2files:\n",
        "    inFiles.append(file)\n",
        "for file in scenario3files:\n",
        "    inFiles.append(file)\n",
        "for file in scenario4files:\n",
        "    inFiles.append(file)\n",
        "\n",
        "print(len(inFiles))"
      ]
    },
    {
      "cell_type": "code",
      "execution_count": 6,
      "metadata": {
        "id": "qELRVSE9Vxlz"
      },
      "outputs": [],
      "source": [
        "if not os.path.exists(FEATURES_ROOT):\n",
        "    os.mkdir(FEATURES_ROOT)"
      ]
    },
    {
      "cell_type": "markdown",
      "metadata": {
        "id": "VFe9KRHHVxlz"
      },
      "source": [
        "### Compute features on clean audio"
      ]
    },
    {
      "cell_type": "markdown",
      "metadata": {
        "id": "qvuTWUdBVxlz"
      },
      "source": [
        "First we compute features on the audio."
      ]
    },
    {
      "cell_type": "code",
      "execution_count": 7,
      "metadata": {
        "id": "Ciuh467YVxlz"
      },
      "outputs": [],
      "source": [
        "def compute_chroma_single(infile, outfile, sr = 22050, hop_length=512):\n",
        "    y, sr = lb.core.load(infile, sr = sr)\n",
        "    # F = lb.feature.chroma_cens(y, sr=sr, hop_length=hop_length)\n",
        "    F = lb.feature.chroma_cqt(y, sr=sr, hop_length=hop_length, norm=2)\n",
        "    np.save(outfile, F)\n",
        "    return"
      ]
    },
    {
      "cell_type": "code",
      "execution_count": 8,
      "metadata": {
        "id": "rO6T-rw1Vxlz"
      },
      "outputs": [
        {
          "ename": "NameError",
          "evalue": "name 'outfile' is not defined",
          "output_type": "error",
          "traceback": [
            "\u001b[0;31m---------------------------------------------------------------------------\u001b[0m",
            "\u001b[0;31mNameError\u001b[0m                                 Traceback (most recent call last)",
            "Cell \u001b[0;32mIn[8], line 2\u001b[0m\n\u001b[1;32m      1\u001b[0m \u001b[38;5;28;01mfor\u001b[39;00m audio \u001b[38;5;129;01min\u001b[39;00m inFiles:\n\u001b[0;32m----> 2\u001b[0m     compute_chroma_single(audio, outfile)\n",
            "\u001b[0;31mNameError\u001b[0m: name 'outfile' is not defined"
          ]
        }
      ],
      "source": [
        "for audio in inFiles:\n",
        "    compute_chroma_single(audio, outfile)"
      ]
    },
    {
      "cell_type": "code",
      "execution_count": 9,
      "metadata": {
        "id": "IehlRJ8oVxl0"
      },
      "outputs": [],
      "source": [
        "def compute_chroma_batch(filelist, outdir, n_cores):\n",
        "\n",
        "    # prep inputs for parallelization\n",
        "    inputs = []\n",
        "    with open(filelist, 'r') as f:\n",
        "        for line in f:\n",
        "            relpath = line.strip()\n",
        "            reldir, fileid = os.path.split(relpath)\n",
        "            featdir = outdir / reldir\n",
        "            featdir.mkdir(parents=True, exist_ok=True)\n",
        "            featfile = (featdir / fileid).with_suffix('.npy')\n",
        "            audiofile = relpath\n",
        "            if os.path.exists(featfile):\n",
        "                print(f\"Skipping {featfile}\")\n",
        "            else:\n",
        "                inputs.append((audiofile, featfile))\n",
        "\n",
        "    # process files in parallel\n",
        "    pool = multiprocessing.Pool(processes = n_cores)\n",
        "    pool.starmap(compute_chroma_single, inputs)\n",
        "\n",
        "    return"
      ]
    },
    {
      "cell_type": "code",
      "execution_count": 10,
      "metadata": {
        "id": "2qCGdyhdVxl0"
      },
      "outputs": [
        {
          "name": "stderr",
          "output_type": "stream",
          "text": [
            "Process SpawnPoolWorker-1:\n",
            "Traceback (most recent call last):\n",
            "  File \"/opt/anaconda3/envs/E207_Spr24/lib/python3.11/multiprocessing/process.py\", line 314, in _bootstrap\n",
            "    self.run()\n",
            "  File \"/opt/anaconda3/envs/E207_Spr24/lib/python3.11/multiprocessing/process.py\", line 108, in run\n",
            "    self._target(*self._args, **self._kwargs)\n",
            "  File \"/opt/anaconda3/envs/E207_Spr24/lib/python3.11/multiprocessing/pool.py\", line 114, in worker\n",
            "    task = get()\n",
            "           ^^^^^\n",
            "  File \"/opt/anaconda3/envs/E207_Spr24/lib/python3.11/multiprocessing/queues.py\", line 367, in get\n",
            "    return _ForkingPickler.loads(res)\n",
            "           ^^^^^^^^^^^^^^^^^^^^^^^^^^\n",
            "AttributeError: Can't get attribute 'compute_chroma_single' on <module '__main__' (built-in)>\n",
            "Process SpawnPoolWorker-2:\n",
            "Traceback (most recent call last):\n",
            "  File \"/opt/anaconda3/envs/E207_Spr24/lib/python3.11/multiprocessing/process.py\", line 314, in _bootstrap\n",
            "    self.run()\n",
            "  File \"/opt/anaconda3/envs/E207_Spr24/lib/python3.11/multiprocessing/process.py\", line 108, in run\n",
            "    self._target(*self._args, **self._kwargs)\n",
            "  File \"/opt/anaconda3/envs/E207_Spr24/lib/python3.11/multiprocessing/pool.py\", line 114, in worker\n",
            "    task = get()\n",
            "           ^^^^^\n",
            "  File \"/opt/anaconda3/envs/E207_Spr24/lib/python3.11/multiprocessing/queues.py\", line 367, in get\n",
            "    return _ForkingPickler.loads(res)\n",
            "           ^^^^^^^^^^^^^^^^^^^^^^^^^^\n",
            "AttributeError: Can't get attribute 'compute_chroma_single' on <module '__main__' (built-in)>\n",
            "Process SpawnPoolWorker-3:\n",
            "Traceback (most recent call last):\n",
            "  File \"/opt/anaconda3/envs/E207_Spr24/lib/python3.11/multiprocessing/process.py\", line 314, in _bootstrap\n",
            "    self.run()\n",
            "  File \"/opt/anaconda3/envs/E207_Spr24/lib/python3.11/multiprocessing/process.py\", line 108, in run\n",
            "    self._target(*self._args, **self._kwargs)\n",
            "  File \"/opt/anaconda3/envs/E207_Spr24/lib/python3.11/multiprocessing/pool.py\", line 114, in worker\n",
            "    task = get()\n",
            "           ^^^^^\n",
            "  File \"/opt/anaconda3/envs/E207_Spr24/lib/python3.11/multiprocessing/queues.py\", line 367, in get\n",
            "    return _ForkingPickler.loads(res)\n",
            "           ^^^^^^^^^^^^^^^^^^^^^^^^^^\n",
            "AttributeError: Can't get attribute 'compute_chroma_single' on <module '__main__' (built-in)>\n",
            "Process SpawnPoolWorker-4:\n",
            "Traceback (most recent call last):\n",
            "  File \"/opt/anaconda3/envs/E207_Spr24/lib/python3.11/multiprocessing/process.py\", line 314, in _bootstrap\n",
            "    self.run()\n",
            "  File \"/opt/anaconda3/envs/E207_Spr24/lib/python3.11/multiprocessing/process.py\", line 108, in run\n",
            "    self._target(*self._args, **self._kwargs)\n",
            "  File \"/opt/anaconda3/envs/E207_Spr24/lib/python3.11/multiprocessing/pool.py\", line 114, in worker\n",
            "    task = get()\n",
            "           ^^^^^\n",
            "  File \"/opt/anaconda3/envs/E207_Spr24/lib/python3.11/multiprocessing/queues.py\", line 367, in get\n",
            "    return _ForkingPickler.loads(res)\n",
            "           ^^^^^^^^^^^^^^^^^^^^^^^^^^\n",
            "AttributeError: Can't get attribute 'compute_chroma_single' on <module '__main__' (built-in)>\n",
            "Process SpawnPoolWorker-5:\n",
            "Traceback (most recent call last):\n",
            "  File \"/opt/anaconda3/envs/E207_Spr24/lib/python3.11/multiprocessing/process.py\", line 314, in _bootstrap\n",
            "    self.run()\n",
            "  File \"/opt/anaconda3/envs/E207_Spr24/lib/python3.11/multiprocessing/process.py\", line 108, in run\n",
            "    self._target(*self._args, **self._kwargs)\n",
            "  File \"/opt/anaconda3/envs/E207_Spr24/lib/python3.11/multiprocessing/pool.py\", line 114, in worker\n",
            "    task = get()\n",
            "           ^^^^^\n",
            "  File \"/opt/anaconda3/envs/E207_Spr24/lib/python3.11/multiprocessing/queues.py\", line 367, in get\n",
            "    return _ForkingPickler.loads(res)\n",
            "           ^^^^^^^^^^^^^^^^^^^^^^^^^^\n",
            "Process SpawnPoolWorker-6:\n",
            "AttributeError: Can't get attribute 'compute_chroma_single' on <module '__main__' (built-in)>\n",
            "Traceback (most recent call last):\n",
            "  File \"/opt/anaconda3/envs/E207_Spr24/lib/python3.11/multiprocessing/process.py\", line 314, in _bootstrap\n",
            "    self.run()\n",
            "  File \"/opt/anaconda3/envs/E207_Spr24/lib/python3.11/multiprocessing/process.py\", line 108, in run\n",
            "    self._target(*self._args, **self._kwargs)\n",
            "  File \"/opt/anaconda3/envs/E207_Spr24/lib/python3.11/multiprocessing/pool.py\", line 114, in worker\n",
            "    task = get()\n",
            "           ^^^^^\n",
            "  File \"/opt/anaconda3/envs/E207_Spr24/lib/python3.11/multiprocessing/queues.py\", line 367, in get\n",
            "    return _ForkingPickler.loads(res)\n",
            "           ^^^^^^^^^^^^^^^^^^^^^^^^^^\n",
            "AttributeError: Can't get attribute 'compute_chroma_single' on <module '__main__' (built-in)>\n",
            "Process SpawnPoolWorker-7:\n",
            "Traceback (most recent call last):\n",
            "  File \"/opt/anaconda3/envs/E207_Spr24/lib/python3.11/multiprocessing/process.py\", line 314, in _bootstrap\n",
            "    self.run()\n",
            "  File \"/opt/anaconda3/envs/E207_Spr24/lib/python3.11/multiprocessing/process.py\", line 108, in run\n",
            "    self._target(*self._args, **self._kwargs)\n",
            "  File \"/opt/anaconda3/envs/E207_Spr24/lib/python3.11/multiprocessing/pool.py\", line 114, in worker\n",
            "    task = get()\n",
            "           ^^^^^\n",
            "  File \"/opt/anaconda3/envs/E207_Spr24/lib/python3.11/multiprocessing/queues.py\", line 367, in get\n",
            "    return _ForkingPickler.loads(res)\n",
            "           ^^^^^^^^^^^^^^^^^^^^^^^^^^\n",
            "AttributeError: Can't get attribute 'compute_chroma_single' on <module '__main__' (built-in)>\n",
            "Process SpawnPoolWorker-8:\n",
            "Traceback (most recent call last):\n",
            "  File \"/opt/anaconda3/envs/E207_Spr24/lib/python3.11/multiprocessing/process.py\", line 314, in _bootstrap\n",
            "    self.run()\n",
            "  File \"/opt/anaconda3/envs/E207_Spr24/lib/python3.11/multiprocessing/process.py\", line 108, in run\n",
            "    self._target(*self._args, **self._kwargs)\n",
            "  File \"/opt/anaconda3/envs/E207_Spr24/lib/python3.11/multiprocessing/pool.py\", line 114, in worker\n",
            "    task = get()\n",
            "           ^^^^^\n",
            "  File \"/opt/anaconda3/envs/E207_Spr24/lib/python3.11/multiprocessing/queues.py\", line 367, in get\n",
            "    return _ForkingPickler.loads(res)\n",
            "           ^^^^^^^^^^^^^^^^^^^^^^^^^^\n",
            "AttributeError: Can't get attribute 'compute_chroma_single' on <module '__main__' (built-in)>\n"
          ]
        },
        {
          "ename": "KeyboardInterrupt",
          "evalue": "",
          "output_type": "error",
          "traceback": [
            "\u001b[0;31m---------------------------------------------------------------------------\u001b[0m",
            "\u001b[0;31mKeyboardInterrupt\u001b[0m                         Traceback (most recent call last)",
            "Cell \u001b[0;32mIn[10], line 1\u001b[0m\n\u001b[0;32m----> 1\u001b[0m compute_chroma_batch(Path(\u001b[38;5;124m\"\u001b[39m\u001b[38;5;124mcfg_files/A_scenario.txt\u001b[39m\u001b[38;5;124m\"\u001b[39m),Path(\u001b[38;5;124m\"\u001b[39m\u001b[38;5;124mscenario_feat\u001b[39m\u001b[38;5;124m\"\u001b[39m), \u001b[38;5;241m4\u001b[39m)\n",
            "Cell \u001b[0;32mIn[9], line 20\u001b[0m, in \u001b[0;36mcompute_chroma_batch\u001b[0;34m(filelist, outdir, n_cores)\u001b[0m\n\u001b[1;32m     18\u001b[0m \u001b[38;5;66;03m# process files in parallel\u001b[39;00m\n\u001b[1;32m     19\u001b[0m pool \u001b[38;5;241m=\u001b[39m multiprocessing\u001b[38;5;241m.\u001b[39mPool(processes \u001b[38;5;241m=\u001b[39m n_cores)\n\u001b[0;32m---> 20\u001b[0m pool\u001b[38;5;241m.\u001b[39mstarmap(compute_chroma_single, inputs)\n\u001b[1;32m     22\u001b[0m \u001b[38;5;28;01mreturn\u001b[39;00m\n",
            "File \u001b[0;32m/opt/anaconda3/envs/E207_Spr24/lib/python3.11/multiprocessing/pool.py:375\u001b[0m, in \u001b[0;36mPool.starmap\u001b[0;34m(self, func, iterable, chunksize)\u001b[0m\n\u001b[1;32m    369\u001b[0m \u001b[38;5;28;01mdef\u001b[39;00m \u001b[38;5;21mstarmap\u001b[39m(\u001b[38;5;28mself\u001b[39m, func, iterable, chunksize\u001b[38;5;241m=\u001b[39m\u001b[38;5;28;01mNone\u001b[39;00m):\n\u001b[1;32m    370\u001b[0m \u001b[38;5;250m    \u001b[39m\u001b[38;5;124;03m'''\u001b[39;00m\n\u001b[1;32m    371\u001b[0m \u001b[38;5;124;03m    Like `map()` method but the elements of the `iterable` are expected to\u001b[39;00m\n\u001b[1;32m    372\u001b[0m \u001b[38;5;124;03m    be iterables as well and will be unpacked as arguments. Hence\u001b[39;00m\n\u001b[1;32m    373\u001b[0m \u001b[38;5;124;03m    `func` and (a, b) becomes func(a, b).\u001b[39;00m\n\u001b[1;32m    374\u001b[0m \u001b[38;5;124;03m    '''\u001b[39;00m\n\u001b[0;32m--> 375\u001b[0m     \u001b[38;5;28;01mreturn\u001b[39;00m \u001b[38;5;28mself\u001b[39m\u001b[38;5;241m.\u001b[39m_map_async(func, iterable, starmapstar, chunksize)\u001b[38;5;241m.\u001b[39mget()\n",
            "File \u001b[0;32m/opt/anaconda3/envs/E207_Spr24/lib/python3.11/multiprocessing/pool.py:768\u001b[0m, in \u001b[0;36mApplyResult.get\u001b[0;34m(self, timeout)\u001b[0m\n\u001b[1;32m    767\u001b[0m \u001b[38;5;28;01mdef\u001b[39;00m \u001b[38;5;21mget\u001b[39m(\u001b[38;5;28mself\u001b[39m, timeout\u001b[38;5;241m=\u001b[39m\u001b[38;5;28;01mNone\u001b[39;00m):\n\u001b[0;32m--> 768\u001b[0m     \u001b[38;5;28mself\u001b[39m\u001b[38;5;241m.\u001b[39mwait(timeout)\n\u001b[1;32m    769\u001b[0m     \u001b[38;5;28;01mif\u001b[39;00m \u001b[38;5;129;01mnot\u001b[39;00m \u001b[38;5;28mself\u001b[39m\u001b[38;5;241m.\u001b[39mready():\n\u001b[1;32m    770\u001b[0m         \u001b[38;5;28;01mraise\u001b[39;00m \u001b[38;5;167;01mTimeoutError\u001b[39;00m\n",
            "File \u001b[0;32m/opt/anaconda3/envs/E207_Spr24/lib/python3.11/multiprocessing/pool.py:765\u001b[0m, in \u001b[0;36mApplyResult.wait\u001b[0;34m(self, timeout)\u001b[0m\n\u001b[1;32m    764\u001b[0m \u001b[38;5;28;01mdef\u001b[39;00m \u001b[38;5;21mwait\u001b[39m(\u001b[38;5;28mself\u001b[39m, timeout\u001b[38;5;241m=\u001b[39m\u001b[38;5;28;01mNone\u001b[39;00m):\n\u001b[0;32m--> 765\u001b[0m     \u001b[38;5;28mself\u001b[39m\u001b[38;5;241m.\u001b[39m_event\u001b[38;5;241m.\u001b[39mwait(timeout)\n",
            "File \u001b[0;32m/opt/anaconda3/envs/E207_Spr24/lib/python3.11/threading.py:629\u001b[0m, in \u001b[0;36mEvent.wait\u001b[0;34m(self, timeout)\u001b[0m\n\u001b[1;32m    627\u001b[0m signaled \u001b[38;5;241m=\u001b[39m \u001b[38;5;28mself\u001b[39m\u001b[38;5;241m.\u001b[39m_flag\n\u001b[1;32m    628\u001b[0m \u001b[38;5;28;01mif\u001b[39;00m \u001b[38;5;129;01mnot\u001b[39;00m signaled:\n\u001b[0;32m--> 629\u001b[0m     signaled \u001b[38;5;241m=\u001b[39m \u001b[38;5;28mself\u001b[39m\u001b[38;5;241m.\u001b[39m_cond\u001b[38;5;241m.\u001b[39mwait(timeout)\n\u001b[1;32m    630\u001b[0m \u001b[38;5;28;01mreturn\u001b[39;00m signaled\n",
            "File \u001b[0;32m/opt/anaconda3/envs/E207_Spr24/lib/python3.11/threading.py:327\u001b[0m, in \u001b[0;36mCondition.wait\u001b[0;34m(self, timeout)\u001b[0m\n\u001b[1;32m    325\u001b[0m \u001b[38;5;28;01mtry\u001b[39;00m:    \u001b[38;5;66;03m# restore state no matter what (e.g., KeyboardInterrupt)\u001b[39;00m\n\u001b[1;32m    326\u001b[0m     \u001b[38;5;28;01mif\u001b[39;00m timeout \u001b[38;5;129;01mis\u001b[39;00m \u001b[38;5;28;01mNone\u001b[39;00m:\n\u001b[0;32m--> 327\u001b[0m         waiter\u001b[38;5;241m.\u001b[39macquire()\n\u001b[1;32m    328\u001b[0m         gotit \u001b[38;5;241m=\u001b[39m \u001b[38;5;28;01mTrue\u001b[39;00m\n\u001b[1;32m    329\u001b[0m     \u001b[38;5;28;01melse\u001b[39;00m:\n",
            "\u001b[0;31mKeyboardInterrupt\u001b[0m: "
          ]
        }
      ],
      "source": [
        "compute_chroma_batch(Path(\"cfg_files/A_scenario.txt\"),Path(\"scenario_feat\"), 4)"
      ]
    },
    {
      "cell_type": "markdown",
      "metadata": {
        "id": "wqIRx-6vVxl0"
      },
      "source": [
        "### Alignment"
      ]
    },
    {
      "cell_type": "code",
      "execution_count": 1,
      "metadata": {
        "id": "mb6bCXyOVxl0"
      },
      "outputs": [
        {
          "ename": "ModuleNotFoundError",
          "evalue": "No module named 'Cython'",
          "output_type": "error",
          "traceback": [
            "\u001b[0;31m---------------------------------------------------------------------------\u001b[0m",
            "\u001b[0;31mModuleNotFoundError\u001b[0m                       Traceback (most recent call last)",
            "Cell \u001b[0;32mIn[1], line 2\u001b[0m\n\u001b[1;32m      1\u001b[0m get_ipython()\u001b[38;5;241m.\u001b[39mrun_line_magic(\u001b[38;5;124m'\u001b[39m\u001b[38;5;124mmatplotlib\u001b[39m\u001b[38;5;124m'\u001b[39m, \u001b[38;5;124m'\u001b[39m\u001b[38;5;124minline\u001b[39m\u001b[38;5;124m'\u001b[39m)\n\u001b[0;32m----> 2\u001b[0m get_ipython()\u001b[38;5;241m.\u001b[39mrun_line_magic(\u001b[38;5;124m'\u001b[39m\u001b[38;5;124mload_ext\u001b[39m\u001b[38;5;124m'\u001b[39m, \u001b[38;5;124m'\u001b[39m\u001b[38;5;124mCython\u001b[39m\u001b[38;5;124m'\u001b[39m)\n",
            "File \u001b[0;32m/opt/anaconda3/envs/E207_Spr24/lib/python3.11/site-packages/IPython/core/interactiveshell.py:2456\u001b[0m, in \u001b[0;36mInteractiveShell.run_line_magic\u001b[0;34m(self, magic_name, line, _stack_depth)\u001b[0m\n\u001b[1;32m   2454\u001b[0m     kwargs[\u001b[38;5;124m'\u001b[39m\u001b[38;5;124mlocal_ns\u001b[39m\u001b[38;5;124m'\u001b[39m] \u001b[38;5;241m=\u001b[39m \u001b[38;5;28mself\u001b[39m\u001b[38;5;241m.\u001b[39mget_local_scope(stack_depth)\n\u001b[1;32m   2455\u001b[0m \u001b[38;5;28;01mwith\u001b[39;00m \u001b[38;5;28mself\u001b[39m\u001b[38;5;241m.\u001b[39mbuiltin_trap:\n\u001b[0;32m-> 2456\u001b[0m     result \u001b[38;5;241m=\u001b[39m fn(\u001b[38;5;241m*\u001b[39margs, \u001b[38;5;241m*\u001b[39m\u001b[38;5;241m*\u001b[39mkwargs)\n\u001b[1;32m   2458\u001b[0m \u001b[38;5;66;03m# The code below prevents the output from being displayed\u001b[39;00m\n\u001b[1;32m   2459\u001b[0m \u001b[38;5;66;03m# when using magics with decorator @output_can_be_silenced\u001b[39;00m\n\u001b[1;32m   2460\u001b[0m \u001b[38;5;66;03m# when the last Python token in the expression is a ';'.\u001b[39;00m\n\u001b[1;32m   2461\u001b[0m \u001b[38;5;28;01mif\u001b[39;00m \u001b[38;5;28mgetattr\u001b[39m(fn, magic\u001b[38;5;241m.\u001b[39mMAGIC_OUTPUT_CAN_BE_SILENCED, \u001b[38;5;28;01mFalse\u001b[39;00m):\n",
            "File \u001b[0;32m/opt/anaconda3/envs/E207_Spr24/lib/python3.11/site-packages/IPython/core/magics/extension.py:33\u001b[0m, in \u001b[0;36mExtensionMagics.load_ext\u001b[0;34m(self, module_str)\u001b[0m\n\u001b[1;32m     31\u001b[0m \u001b[38;5;28;01mif\u001b[39;00m \u001b[38;5;129;01mnot\u001b[39;00m module_str:\n\u001b[1;32m     32\u001b[0m     \u001b[38;5;28;01mraise\u001b[39;00m UsageError(\u001b[38;5;124m'\u001b[39m\u001b[38;5;124mMissing module name.\u001b[39m\u001b[38;5;124m'\u001b[39m)\n\u001b[0;32m---> 33\u001b[0m res \u001b[38;5;241m=\u001b[39m \u001b[38;5;28mself\u001b[39m\u001b[38;5;241m.\u001b[39mshell\u001b[38;5;241m.\u001b[39mextension_manager\u001b[38;5;241m.\u001b[39mload_extension(module_str)\n\u001b[1;32m     35\u001b[0m \u001b[38;5;28;01mif\u001b[39;00m res \u001b[38;5;241m==\u001b[39m \u001b[38;5;124m'\u001b[39m\u001b[38;5;124malready loaded\u001b[39m\u001b[38;5;124m'\u001b[39m:\n\u001b[1;32m     36\u001b[0m     \u001b[38;5;28mprint\u001b[39m(\u001b[38;5;124m\"\u001b[39m\u001b[38;5;124mThe \u001b[39m\u001b[38;5;132;01m%s\u001b[39;00m\u001b[38;5;124m extension is already loaded. To reload it, use:\u001b[39m\u001b[38;5;124m\"\u001b[39m \u001b[38;5;241m%\u001b[39m module_str)\n",
            "File \u001b[0;32m/opt/anaconda3/envs/E207_Spr24/lib/python3.11/site-packages/IPython/core/extensions.py:76\u001b[0m, in \u001b[0;36mExtensionManager.load_extension\u001b[0;34m(self, module_str)\u001b[0m\n\u001b[1;32m     69\u001b[0m \u001b[38;5;250m\u001b[39m\u001b[38;5;124;03m\"\"\"Load an IPython extension by its module name.\u001b[39;00m\n\u001b[1;32m     70\u001b[0m \n\u001b[1;32m     71\u001b[0m \u001b[38;5;124;03mReturns the string \"already loaded\" if the extension is already loaded,\u001b[39;00m\n\u001b[1;32m     72\u001b[0m \u001b[38;5;124;03m\"no load function\" if the module doesn't have a load_ipython_extension\u001b[39;00m\n\u001b[1;32m     73\u001b[0m \u001b[38;5;124;03mfunction, or None if it succeeded.\u001b[39;00m\n\u001b[1;32m     74\u001b[0m \u001b[38;5;124;03m\"\"\"\u001b[39;00m\n\u001b[1;32m     75\u001b[0m \u001b[38;5;28;01mtry\u001b[39;00m:\n\u001b[0;32m---> 76\u001b[0m     \u001b[38;5;28;01mreturn\u001b[39;00m \u001b[38;5;28mself\u001b[39m\u001b[38;5;241m.\u001b[39m_load_extension(module_str)\n\u001b[1;32m     77\u001b[0m \u001b[38;5;28;01mexcept\u001b[39;00m \u001b[38;5;167;01mModuleNotFoundError\u001b[39;00m:\n\u001b[1;32m     78\u001b[0m     \u001b[38;5;28;01mif\u001b[39;00m module_str \u001b[38;5;129;01min\u001b[39;00m BUILTINS_EXTS:\n",
            "File \u001b[0;32m/opt/anaconda3/envs/E207_Spr24/lib/python3.11/site-packages/IPython/core/extensions.py:91\u001b[0m, in \u001b[0;36mExtensionManager._load_extension\u001b[0;34m(self, module_str)\u001b[0m\n\u001b[1;32m     89\u001b[0m \u001b[38;5;28;01mwith\u001b[39;00m \u001b[38;5;28mself\u001b[39m\u001b[38;5;241m.\u001b[39mshell\u001b[38;5;241m.\u001b[39mbuiltin_trap:\n\u001b[1;32m     90\u001b[0m     \u001b[38;5;28;01mif\u001b[39;00m module_str \u001b[38;5;129;01mnot\u001b[39;00m \u001b[38;5;129;01min\u001b[39;00m sys\u001b[38;5;241m.\u001b[39mmodules:\n\u001b[0;32m---> 91\u001b[0m         mod \u001b[38;5;241m=\u001b[39m import_module(module_str)\n\u001b[1;32m     92\u001b[0m     mod \u001b[38;5;241m=\u001b[39m sys\u001b[38;5;241m.\u001b[39mmodules[module_str]\n\u001b[1;32m     93\u001b[0m     \u001b[38;5;28;01mif\u001b[39;00m \u001b[38;5;28mself\u001b[39m\u001b[38;5;241m.\u001b[39m_call_load_ipython_extension(mod):\n",
            "File \u001b[0;32m/opt/anaconda3/envs/E207_Spr24/lib/python3.11/importlib/__init__.py:126\u001b[0m, in \u001b[0;36mimport_module\u001b[0;34m(name, package)\u001b[0m\n\u001b[1;32m    124\u001b[0m             \u001b[38;5;28;01mbreak\u001b[39;00m\n\u001b[1;32m    125\u001b[0m         level \u001b[38;5;241m+\u001b[39m\u001b[38;5;241m=\u001b[39m \u001b[38;5;241m1\u001b[39m\n\u001b[0;32m--> 126\u001b[0m \u001b[38;5;28;01mreturn\u001b[39;00m _bootstrap\u001b[38;5;241m.\u001b[39m_gcd_import(name[level:], package, level)\n",
            "File \u001b[0;32m<frozen importlib._bootstrap>:1204\u001b[0m, in \u001b[0;36m_gcd_import\u001b[0;34m(name, package, level)\u001b[0m\n",
            "File \u001b[0;32m<frozen importlib._bootstrap>:1176\u001b[0m, in \u001b[0;36m_find_and_load\u001b[0;34m(name, import_)\u001b[0m\n",
            "File \u001b[0;32m<frozen importlib._bootstrap>:1140\u001b[0m, in \u001b[0;36m_find_and_load_unlocked\u001b[0;34m(name, import_)\u001b[0m\n",
            "\u001b[0;31mModuleNotFoundError\u001b[0m: No module named 'Cython'"
          ]
        }
      ],
      "source": [
        "%matplotlib inline\n",
        "%load_ext Cython"
      ]
    },
    {
      "cell_type": "code",
      "execution_count": 12,
      "metadata": {
        "id": "mNz6nvkpVxl0"
      },
      "outputs": [],
      "source": [
        "import numpy as np\n",
        "import matplotlib.pyplot as plt\n",
        "import librosa as lb\n",
        "import os.path\n",
        "from pathlib import Path\n",
        "import pickle\n",
        "import multiprocessing\n",
        "import time\n",
        "import gc"
      ]
    },
    {
      "cell_type": "code",
      "execution_count": 13,
      "metadata": {
        "id": "6bfNa6rVVxl0"
      },
      "outputs": [],
      "source": [
        "%%cython\n",
        "import numpy as np\n",
        "cimport numpy as np\n",
        "cimport cython\n",
        "\n",
        "import sys\n",
        "import time\n",
        "\n",
        "\n",
        "DTYPE_INT32 = np.int32\n",
        "ctypedef np.int32_t DTYPE_INT32_t\n",
        "\n",
        "DTYPE_FLOAT = np.float64\n",
        "ctypedef np.float64_t DTYPE_FLOAT_t\n",
        "\n",
        "cdef DTYPE_FLOAT_t MAX_FLOAT = float('inf')\n",
        "\n",
        "# careful, without bounds checking can mess up memory - also can't use negative indices I think (like x[-1])\n",
        "@cython.boundscheck(False) # turn off bounds-checking for entire function\n",
        "def DTW_Cost_To_AccumCostAndSteps(Cin, parameter):\n",
        "    '''\n",
        "    Inputs\n",
        "        C: The cost Matrix\n",
        "    '''\n",
        "\n",
        "\n",
        "    '''\n",
        "    Section for checking and catching errors in the inputs\n",
        "    '''\n",
        "\n",
        "    cdef np.ndarray[DTYPE_FLOAT_t, ndim=2] C\n",
        "    try:\n",
        "        C = np.array(Cin, dtype=DTYPE_FLOAT)\n",
        "    except TypeError:\n",
        "        print(bcolors.FAIL + \"FAILURE: The type of the cost matrix is wrong - please pass in a 2-d numpy array\" + bcolors.ENDC)\n",
        "        return [-1, -1, -1]\n",
        "    except ValueError:\n",
        "        print(bcolors.FAIL + \"FAILURE: The type of the elements in the cost matrix is wrong - please have each element be a float (perhaps you passed in a matrix of ints?)\" + bcolors.ENDC)\n",
        "        return [-1, -1, -1]\n",
        "\n",
        "    cdef np.ndarray[np.uint32_t, ndim=1] dn\n",
        "    cdef np.ndarray[np.uint32_t, ndim=1] dm\n",
        "    cdef np.ndarray[DTYPE_FLOAT_t, ndim=1] dw\n",
        "    # make sure dn, dm, and dw are setup\n",
        "    # dn loading and exception handling\n",
        "    if ('dn'  in parameter.keys()):\n",
        "        try:\n",
        "\n",
        "            dn = np.array(parameter['dn'], dtype=np.uint32)\n",
        "        except TypeError:\n",
        "            print(bcolors.FAIL + \"FAILURE: The type of dn (row steps) is wrong - please pass in a 1-d numpy array that holds uint32s\" + bcolors.ENDC)\n",
        "            return [-1, -1, -1]\n",
        "        except ValueError:\n",
        "            print(bcolors.FAIL + \"The type of the elements in dn (row steps) is wrong - please have each element be a uint32 (perhaps you passed a long?). You can specify this when making a numpy array like: np.array([1,2,3],dtype=np.uint32)\" + bcolors.ENDC)\n",
        "            return [-1, -1, -1]\n",
        "    else:\n",
        "        dn = np.array([1, 1, 0], dtype=np.uint32)\n",
        "    # dm loading and exception handling\n",
        "    if 'dm'  in parameter.keys():\n",
        "        try:\n",
        "            dm = np.array(parameter['dm'], dtype=np.uint32)\n",
        "        except TypeError:\n",
        "            print(bcolors.FAIL + \"FAILURE: The type of dm (col steps) is wrong - please pass in a 1-d numpy array that holds uint32s\" + bcolors.ENDC)\n",
        "            return [-1, -1, -1]\n",
        "        except ValueError:\n",
        "            print(bcolors.FAIL + \"FAILURE: The type of the elements in dm (col steps) is wrong - please have each element be a uint32 (perhaps you passed a long?). You can specify this when making a numpy array like: np.array([1,2,3],dtype=np.uint32)\" + bcolors.ENDC)\n",
        "            return [-1, -1, -1]\n",
        "    else:\n",
        "        print(bcolors.FAIL + \"dm (col steps) was not passed in (gave default value [1,0,1]) \" + bcolors.ENDC)\n",
        "        dm = np.array([1, 0, 1], dtype=np.uint32)\n",
        "    # dw loading and exception handling\n",
        "    if 'dw'  in parameter.keys():\n",
        "        try:\n",
        "            dw = np.array(parameter['dw'], dtype=DTYPE_FLOAT)\n",
        "        except TypeError:\n",
        "            print(bcolors.FAIL + \"FAILURE: The type of dw (step weights) is wrong - please pass in a 1-d numpy array that holds floats\" + bcolors.ENDC)\n",
        "            return [-1, -1, -1]\n",
        "        except ValueError:\n",
        "            print(bcolors.FAIL + \"FAILURE:The type of the elements in dw (step weights) is wrong - please have each element be a float (perhaps you passed ints or a long?). You can specify this when making a numpy array like: np.array([1,2,3],dtype=np.float64)\" + bcolors.ENDC)\n",
        "            return [-1, -1, -1]\n",
        "    else:\n",
        "        dw = np.array([1, 1, 1], dtype=DTYPE_FLOAT)\n",
        "        print(bcolors.FAIL + \"dw (step weights) was not passed in (gave default value [1,1,1]) \" + bcolors.ENDC)\n",
        "\n",
        "\n",
        "    '''\n",
        "    Section where types are given to the variables we're going to use\n",
        "    '''\n",
        "    # create matrices to store our results (D and E)\n",
        "    cdef DTYPE_INT32_t numRows = C.shape[0] # only works with np arrays, use np.shape(x) will work on lists? want to force to use np though?\n",
        "    cdef DTYPE_INT32_t numCols = C.shape[1]\n",
        "    cdef DTYPE_INT32_t numDifSteps = np.size(dw)\n",
        "\n",
        "    cdef unsigned int maxRowStep = max(dn)\n",
        "    cdef unsigned int maxColStep = max(dm)\n",
        "\n",
        "    cdef np.ndarray[np.uint32_t, ndim=2] steps = np.zeros((numRows,numCols), dtype=np.uint32)\n",
        "    cdef np.ndarray[DTYPE_FLOAT_t, ndim=2] accumCost = np.ones((maxRowStep + numRows, maxColStep + numCols), dtype=DTYPE_FLOAT) * MAX_FLOAT\n",
        "\n",
        "    cdef DTYPE_FLOAT_t bestCost\n",
        "    cdef DTYPE_INT32_t bestCostIndex\n",
        "    cdef DTYPE_FLOAT_t costForStep\n",
        "    cdef unsigned int row, col\n",
        "    cdef unsigned int stepIndex\n",
        "\n",
        "    '''\n",
        "    The start of the actual algorithm, now that all our variables are set up\n",
        "    '''\n",
        "    # initializing the cost matrix - depends on whether its subsequence DTW\n",
        "    # essentially allow us to hop on the bottom anywhere (so could start partway through one of the signals)\n",
        "    if parameter['SubSequence']:\n",
        "        for col in range(numCols):\n",
        "            accumCost[maxRowStep, col + maxColStep] = C[0, col]\n",
        "    else:\n",
        "        accumCost[maxRowStep, maxColStep] = C[0,0]\n",
        "\n",
        "    # filling the accumulated cost matrix\n",
        "    for row in range(maxRowStep, numRows + maxRowStep, 1):\n",
        "        for col in range(maxColStep, numCols + maxColStep, 1):\n",
        "            bestCost = accumCost[<unsigned int>row, <unsigned int>col] # initialize with what's there - so if is an entry point, then can start low\n",
        "            bestCostIndex = 0\n",
        "            # go through each step, find the best one\n",
        "            for stepIndex in range(numDifSteps):\n",
        "                #costForStep = accumCost[<unsigned int>(row - dn[<unsigned int>(stepIndex)]), <unsigned int>(col - dm[<unsigned int>(stepIndex)])] + dw[<unsigned int>(stepIndex)] * C[<unsigned int>(row - maxRowStep), <unsigned int>(col - maxColStep)]\n",
        "                costForStep = accumCost[<unsigned int>((row - dn[(stepIndex)])), <unsigned int>((col - dm[(stepIndex)]))] + dw[stepIndex] * C[<unsigned int>(row - maxRowStep), <unsigned int>(col - maxColStep)]\n",
        "                if costForStep < bestCost:\n",
        "                    bestCost = costForStep\n",
        "                    bestCostIndex = stepIndex\n",
        "            # save the best cost and best cost index\n",
        "            accumCost[row, col] = bestCost\n",
        "            steps[<unsigned int>(row - maxRowStep), <unsigned int>(col - maxColStep)] = bestCostIndex\n",
        "\n",
        "    # return the accumulated cost along with the matrix of steps taken to achieve that cost\n",
        "    return [accumCost[maxRowStep:, maxColStep:], steps]\n",
        "\n",
        "@cython.boundscheck(False) # turn off bounds-checking for entire function\n",
        "def DTW_GetPath(np.ndarray[DTYPE_FLOAT_t, ndim=2] accumCost, np.ndarray[np.uint32_t, ndim=2] stepsForCost, parameter):\n",
        "    '''\n",
        "\n",
        "    Parameter should have: 'dn', 'dm', 'dw', 'SubSequence'\n",
        "    '''\n",
        "\n",
        "    cdef np.ndarray[unsigned int, ndim=1] dn\n",
        "    cdef np.ndarray[unsigned int, ndim=1] dm\n",
        "    cdef np.uint8_t subseq\n",
        "    cdef np.int32_t startCol # added\n",
        "    # make sure dn, dm, and dw are setup\n",
        "    if ('dn'  in parameter.keys()):\n",
        "        dn = parameter['dn']\n",
        "    else:\n",
        "        dn = np.array([1, 1, 0], dtype=DTYPE_INT32)\n",
        "    if 'dm'  in parameter.keys():\n",
        "        dm = parameter['dm']\n",
        "    else:\n",
        "        dm = np.array([1, 0, 1], dtype=DTYPE_INT32)\n",
        "    if 'SubSequence' in parameter.keys():\n",
        "        subseq = parameter['SubSequence']\n",
        "    else:\n",
        "        subseq = 0\n",
        "\n",
        "    # added START\n",
        "    if 'startCol' in parameter.keys():\n",
        "        startCol = parameter['startCol']\n",
        "    else:\n",
        "        startCol = -1\n",
        "    # added END\n",
        "\n",
        "    cdef np.uint32_t numRows\n",
        "    cdef np.uint32_t numCols\n",
        "    cdef np.uint32_t curRow\n",
        "    cdef np.uint32_t curCol\n",
        "    cdef np.uint32_t endCol\n",
        "    cdef DTYPE_FLOAT_t endCost\n",
        "\n",
        "    numRows = accumCost.shape[0]\n",
        "    numCols = accumCost.shape[1]\n",
        "\n",
        "    # either start at the far corner (non sub-sequence)\n",
        "    # or start at the lowest cost entry in the last row (sub-sequence)\n",
        "    # where all of the signal along the row has been used, but only a\n",
        "    # sub-sequence of the signal along the columns has to be used\n",
        "    curRow = numRows - 1\n",
        "    if subseq:\n",
        "        curCol = np.argmin(accumCost[numRows - 1, :])\n",
        "    else:\n",
        "        curCol = numCols - 1\n",
        "\n",
        "    # added - if specified, overrides above\n",
        "    if startCol >= 0:\n",
        "        curCol = startCol\n",
        "\n",
        "    endCol = curCol\n",
        "    endCost = accumCost[curRow, curCol]\n",
        "\n",
        "    cdef np.uint32_t curRowStep\n",
        "    cdef np.uint32_t curColStep\n",
        "    cdef np.uint32_t curStepIndex\n",
        "\n",
        "\n",
        "    cdef np.ndarray[np.uint32_t, ndim=2] path = np.zeros((2, numRows + numCols), dtype=np.uint32) # make as large as could need, then chop at the end\n",
        "    path[0, 0] = curRow\n",
        "    path[1, 0] = curCol\n",
        "\n",
        "    cdef np.uint32_t stepsInPath = 1 # starts at one, we add in one before looping\n",
        "    cdef np.uint32_t stepIndex = 0\n",
        "    cdef np.int8_t done = (subseq and curRow == 0) or (curRow == 0 and curCol == 0)\n",
        "    while not done:\n",
        "        if accumCost[curRow, curCol] == MAX_FLOAT:\n",
        "            print('A path is not possible')\n",
        "            break\n",
        "\n",
        "        # you're done if you've made it to the bottom left (non sub-sequence)\n",
        "        # or just the bottom (sub-sequence)\n",
        "        # find the step size\n",
        "        curStepIndex = stepsForCost[curRow, curCol]\n",
        "        curRowStep = dn[curStepIndex]\n",
        "        curColStep = dm[curStepIndex]\n",
        "        # backtrack by 1 step\n",
        "        curRow = curRow - curRowStep\n",
        "        curCol = curCol - curColStep\n",
        "        # add your new location onto the path\n",
        "        path[0, stepsInPath] = curRow\n",
        "        path[1, stepsInPath] = curCol\n",
        "        stepsInPath = stepsInPath + 1\n",
        "        # check to see if you're done\n",
        "        done = (subseq and curRow == 0) or (curRow == 0 and curCol == 0)\n",
        "\n",
        "    # reverse the path (a matrix with two rows) and return it\n",
        "    return [np.fliplr(path[:, 0:stepsInPath]), endCol, endCost]\n",
        "\n",
        "class bcolors:\n",
        "    HEADER = '\\033[95m'\n",
        "    OKBLUE = '\\033[94m'\n",
        "    OKGREEN = '\\033[92m'\n",
        "    WARNING = '\\033[93m'\n",
        "    FAIL = '\\033[91m'\n",
        "    ENDC = '\\033[0m'\n",
        "    BOLD = '\\033[1m'\n",
        "    UNDERLINE = '\\033[4m'"
      ]
    },
    {
      "cell_type": "code",
      "execution_count": 29,
      "metadata": {
        "id": "Tq1mQYv0Vxl1"
      },
      "outputs": [],
      "source": [
        "def alignDTW(featfile1, featfile2, steps, weights, downsample, outfile = None, profile = False):\n",
        "\n",
        "    F1 = np.load(featfile1) # 12 x N\n",
        "    F2 = np.load(featfile2) # 12 x M\n",
        "    if max(F1.shape[1], F2.shape[1]) / min(F1.shape[1], F2.shape[1]) >= 2: # no valid path possible\n",
        "        if outfile:\n",
        "            pickle.dump(None, open(outfile, 'wb'))\n",
        "        return None\n",
        "    times = []\n",
        "    times.append(time.time())\n",
        "    C = 1 - F1[:,0::downsample].T @ F2[:,0::downsample] # cos distance metric\n",
        "    times.append(time.time())\n",
        "\n",
        "    dn = steps[:,0].astype(np.uint32)\n",
        "    dm = steps[:,1].astype(np.uint32)\n",
        "    parameters = {'dn': dn, 'dm': dm, 'dw': weights, 'SubSequence': False}\n",
        "    [D, s] = DTW_Cost_To_AccumCostAndSteps(C, parameters)\n",
        "    times.append(time.time())\n",
        "    [wp, endCol, endCost] = DTW_GetPath(D, s, parameters)\n",
        "    times.append(time.time())\n",
        "    if outfile:\n",
        "        pickle.dump(wp, open(outfile, 'wb'))\n",
        "\n",
        "    if profile:\n",
        "        return wp, np.diff(times)\n",
        "    else:\n",
        "        return wp, D, C, s, parameters"
      ]
    },
    {
      "cell_type": "markdown",
      "metadata": {},
      "source": [
        "## Idea 1 -- Visualization of the path and D matrix"
      ]
    },
    {
      "cell_type": "code",
      "execution_count": 30,
      "metadata": {
        "id": "kI6e_cfBVxl1"
      },
      "outputs": [],
      "source": [
        "scenario1Features = glob.glob(\"scenario_feat/Full_Alignment_Recordings/Scenario_1\" + \"/*\")\n",
        "scenario2Features = glob.glob(\"scenario_feat/Full_Alignment_Recordings/Scenario_2\" + \"/*\")\n",
        "scenario3Features = glob.glob(\"scenario_feat/Full_Alignment_Recordings/Scenario_3\" + \"/*\")\n",
        "scenario4Features = glob.glob(\"scenario_feat/Full_Alignment_Recordings/Scenario_4\" + \"/*\")\n",
        "steps = np.array([1,1,1,2,2,1]).reshape((-1,2))\n",
        "weights = np.array([2,3,3])\n",
        "downsample = 1\n",
        "\n",
        "wp1, D1, C1, s1, parameters1 = (alignDTW(scenario1Features[0], scenario1Features[1], steps, weights, downsample))\n",
        "wp2, D2, C2, s2, parameters2 = (alignDTW(scenario2Features[0], scenario2Features[1], steps, weights, downsample))\n",
        "wp3, D3, C3, s3, parameters3  = (alignDTW(scenario3Features[0], scenario3Features[1], steps, weights, downsample))\n",
        "wp4, D4, C4, s4, parameters4 = (alignDTW(scenario4Features[0], scenario4Features[1], steps, weights, downsample))\n",
        "\n"
      ]
    },
    {
      "cell_type": "code",
      "execution_count": 16,
      "metadata": {
        "id": "CQKXFDAcVxl1",
        "outputId": "94700d70-c688-4bfd-affd-6c68e30b3e26"
      },
      "outputs": [
        {
          "data": {
            "text/plain": [
              "array([[    0,     2,     4, ..., 13903, 13905, 13907],\n",
              "       [    0,     1,     2, ..., 11021, 11022, 11023]], dtype=uint32)"
            ]
          },
          "execution_count": 16,
          "metadata": {},
          "output_type": "execute_result"
        }
      ],
      "source": [
        "wp1"
      ]
    },
    {
      "cell_type": "code",
      "execution_count": 17,
      "metadata": {
        "id": "xuo9Ku7fVxl1",
        "outputId": "4fd0b45d-d5a5-4642-f343-da7d8165903d"
      },
      "outputs": [
        {
          "data": {
            "text/plain": [
              "(13908, 11024)"
            ]
          },
          "execution_count": 17,
          "metadata": {},
          "output_type": "execute_result"
        }
      ],
      "source": [
        "D1.shape"
      ]
    },
    {
      "cell_type": "code",
      "execution_count": 17,
      "metadata": {
        "id": "lNdwihleVxl1",
        "outputId": "ea61348d-e714-4beb-c9b2-c373a114d37c"
      },
      "outputs": [
        {
          "data": {
            "image/png": "[encoded data removed]",
            "text/plain": [
              "<Figure size 432x288 with 1 Axes>"
            ]
          },
          "metadata": {
            "needs_background": "light"
          },
          "output_type": "display_data"
        }
      ],
      "source": [
        "plt.scatter(wp1[0],wp1[1])\n",
        "plt.show()"
      ]
    },
    {
      "cell_type": "code",
      "execution_count": 18,
      "metadata": {
        "id": "Wx2NrlC0Vxl1",
        "outputId": "7f498834-d6f9-456e-ef71-bf4379c81b22"
      },
      "outputs": [
        {
          "data": {
            "image/png": "[encoded data removed]",
            "text/plain": [
              "<Figure size 432x288 with 1 Axes>"
            ]
          },
          "metadata": {
            "needs_background": "light"
          },
          "output_type": "display_data"
        }
      ],
      "source": [
        "plt.scatter(wp2[0],wp2[1])\n",
        "plt.show()"
      ]
    },
    {
      "cell_type": "code",
      "execution_count": 19,
      "metadata": {
        "id": "hrRm5hOqVxl1",
        "outputId": "c72dca57-824c-4488-95ae-3576fbba15ea"
      },
      "outputs": [
        {
          "data": {
            "image/png": "[encoded data removed]",
            "text/plain": [
              "<Figure size 432x288 with 1 Axes>"
            ]
          },
          "metadata": {
            "needs_background": "light"
          },
          "output_type": "display_data"
        }
      ],
      "source": [
        "plt.scatter(wp3[0],wp3[1])\n",
        "plt.show()"
      ]
    },
    {
      "cell_type": "code",
      "execution_count": 20,
      "metadata": {
        "id": "HkDUSkCGVxl1",
        "outputId": "05ed4fbb-2478-4eae-e11e-ea066124f65a"
      },
      "outputs": [
        {
          "data": {
            "image/png": "[encoded data removed]",
            "text/plain": [
              "<Figure size 432x288 with 1 Axes>"
            ]
          },
          "metadata": {
            "needs_background": "light"
          },
          "output_type": "display_data"
        }
      ],
      "source": [
        "plt.scatter(wp4[0],wp4[1])\n",
        "plt.show()"
      ]
    },
    {
      "cell_type": "code",
      "execution_count": 21,
      "metadata": {
        "id": "6Bri2HQfVxl1",
        "outputId": "fc507ed8-879e-4cbf-82c4-f96f39cadb45"
      },
      "outputs": [
        {
          "data": {
            "text/plain": [
              "<matplotlib.image.AxesImage at 0x7fbc3c5c7f10>"
            ]
          },
          "execution_count": 21,
          "metadata": {},
          "output_type": "execute_result"
        },
        {
          "data": {
            "image/png": "[encoded data removed]",
            "text/plain": [
              "<Figure size 432x288 with 1 Axes>"
            ]
          },
          "metadata": {
            "needs_background": "light"
          },
          "output_type": "display_data"
        }
      ],
      "source": [
        "plt.xlabel('Reference')\n",
        "plt.ylabel('Query')\n",
        "x,y = wp1[0], wp1[1]\n",
        "plt.plot(y,x, color='red', markersize=1, linewidth=2)\n",
        "plt.imshow(D1, origin = 'lower', cmap='jet')"
      ]
    },
    {
      "cell_type": "code",
      "execution_count": 22,
      "metadata": {
        "id": "Yv388z7tVxl2",
        "outputId": "deeaac38-b8d5-49d4-b4af-c00adaa30f24"
      },
      "outputs": [
        {
          "data": {
            "text/plain": [
              "<matplotlib.image.AxesImage at 0x7fbc3c545b10>"
            ]
          },
          "execution_count": 22,
          "metadata": {},
          "output_type": "execute_result"
        },
        {
          "data": {
            "image/png": "[encoded data removed]",
            "text/plain": [
              "<Figure size 432x288 with 1 Axes>"
            ]
          },
          "metadata": {
            "needs_background": "light"
          },
          "output_type": "display_data"
        }
      ],
      "source": [
        "plt.xlabel('Reference')\n",
        "plt.ylabel('Query')\n",
        "x,y = wp2[0], wp2[1]\n",
        "plt.plot(y,x, color='red', markersize=1, linewidth=2)\n",
        "plt.imshow(D2, origin = 'lower', cmap='jet')"
      ]
    },
    {
      "cell_type": "code",
      "execution_count": 23,
      "metadata": {
        "id": "yMkURkO_Vxl2",
        "outputId": "c234ed9e-0b37-4c4a-e7e6-496fb95d7514"
      },
      "outputs": [
        {
          "data": {
            "text/plain": [
              "<matplotlib.image.AxesImage at 0x7fbc3c4afc50>"
            ]
          },
          "execution_count": 23,
          "metadata": {},
          "output_type": "execute_result"
        },
        {
          "data": {
            "image/png": "[encoded data removed]",
            "text/plain": [
              "<Figure size 432x288 with 1 Axes>"
            ]
          },
          "metadata": {
            "needs_background": "light"
          },
          "output_type": "display_data"
        }
      ],
      "source": [
        "plt.xlabel('Reference')\n",
        "plt.ylabel('Query')\n",
        "x,y = wp3[0], wp3[1]\n",
        "plt.plot(y,x, color='red', markersize=1, linewidth=2)\n",
        "plt.imshow(D3, origin = 'lower', cmap='jet')"
      ]
    },
    {
      "cell_type": "code",
      "execution_count": 24,
      "metadata": {
        "id": "KuKRzUEvVxl2",
        "outputId": "48d38bf2-b9da-4100-c217-235a7f9cda94"
      },
      "outputs": [
        {
          "data": {
            "text/plain": [
              "<matplotlib.image.AxesImage at 0x7fbc3c417dd0>"
            ]
          },
          "execution_count": 24,
          "metadata": {},
          "output_type": "execute_result"
        }
      ],
      "source": [
        "plt.xlabel('Reference')\n",
        "plt.ylabel('Query')\n",
        "x,y = wp4[0], wp4[1]\n",
        "plt.plot(y,x, color='red', markersize=1, linewidth=2)\n",
        "plt.imshow(D4, origin = 'lower', cmap='jet')"
      ]
    },
    {
      "cell_type": "markdown",
      "metadata": {
        "id": "ckBo9Ta_Vxl2"
      },
      "source": [
        "## Idea 2 -- Backtrace voting"
      ]
    },
    {
      "cell_type": "code",
      "execution_count": 28,
      "metadata": {},
      "outputs": [],
      "source": [
        "def subsequenceDTW(C, steps, weights):\n",
        "    '''\n",
        "    Find the optimal subsequence path through cost matrix C.\n",
        "    \n",
        "    Arguments:\n",
        "    C -- cost matrix of dimension (# query frames, # reference frames)\n",
        "    steps -- a numpy matrix specifying the allowable transitions.  It should be of\n",
        "            dimension (L, 2), where each row specifies (row step, col step)\n",
        "    weights -- a vector of size L specifying the multiplicative weights associated \n",
        "                with each of the allowable transitions\n",
        "                \n",
        "    Returns:\n",
        "    optcost -- the optimal subsequence path score\n",
        "    path -- a matrix with 2 columns specifying the optimal subsequence path.  Each row \n",
        "            specifies the (row, col) coordinate.\n",
        "    '''\n",
        "    D = np.zeros(C.shape)\n",
        "    B = np.zeros(C.shape, dtype=np.int8)\n",
        "\n",
        "    ### START CODE BLOCK ###\n",
        "    Mq, Mr = D.shape\n",
        "    for i in range(0, Mq):\n",
        "        for j in range(0, Mr):\n",
        "            if i == 0:\n",
        "                D[0,j] = C[0,j]\n",
        "            else:\n",
        "                possible_costs = np.zeros(steps.shape[0])\n",
        "                for k in range(steps.shape[0]):\n",
        "                    row_move, col_move = steps[k]\n",
        "                    if i - row_move < 0 or j - col_move < 0:\n",
        "                        possible_costs[k] = float('inf')\n",
        "                    else:\n",
        "                        possible_costs[k] = D[i - row_move, j - col_move] + C[i,j] * weights[k]\n",
        "                min_index = np.argmin(possible_costs)\n",
        "                D[i,j] = possible_costs[min_index]\n",
        "                B[i,j] = min_index\n",
        "    path = backtrace(D, B, steps)\n",
        "    optcost = np.min(D[-1,:])\n",
        "    ### END CODE BLOCK ###\n",
        "    \n",
        "    path = np.array(path)\n",
        "    \n",
        "    return D, B"
      ]
    },
    {
      "cell_type": "code",
      "execution_count": 31,
      "metadata": {},
      "outputs": [],
      "source": [
        "ourD1, ourB1 = subsequenceDTW(C1, steps, weights)"
      ]
    },
    {
      "cell_type": "code",
      "execution_count": null,
      "metadata": {},
      "outputs": [],
      "source": [
        "ourD1"
      ]
    },
    {
      "cell_type": "code",
      "execution_count": null,
      "metadata": {},
      "outputs": [],
      "source": [
        "D1"
      ]
    },
    {
      "cell_type": "code",
      "execution_count": null,
      "metadata": {},
      "outputs": [
        {
          "ename": "NameError",
          "evalue": "name 'D1' is not defined",
          "output_type": "error",
          "traceback": [
            "\u001b[0;31m---------------------------------------------------------------------------\u001b[0m",
            "\u001b[0;31mNameError\u001b[0m                                 Traceback (most recent call last)",
            "\u001b[0;32m<ipython-input-1-4f703a6fb743>\u001b[0m in \u001b[0;36m<module>\u001b[0;34m\u001b[0m\n\u001b[1;32m      1\u001b[0m \u001b[0mwp1_backtrace_list\u001b[0m \u001b[0;34m=\u001b[0m \u001b[0;34m[\u001b[0m\u001b[0;34m]\u001b[0m\u001b[0;34m\u001b[0m\u001b[0;34m\u001b[0m\u001b[0m\n\u001b[0;32m----> 2\u001b[0;31m \u001b[0;32mfor\u001b[0m \u001b[0mr\u001b[0m \u001b[0;32min\u001b[0m \u001b[0mrange\u001b[0m\u001b[0;34m(\u001b[0m\u001b[0;36m1\u001b[0m\u001b[0;34m,\u001b[0m \u001b[0mD1\u001b[0m\u001b[0;34m.\u001b[0m\u001b[0mshape\u001b[0m\u001b[0;34m[\u001b[0m\u001b[0;36m0\u001b[0m\u001b[0;34m]\u001b[0m\u001b[0;34m)\u001b[0m\u001b[0;34m:\u001b[0m\u001b[0;34m\u001b[0m\u001b[0;34m\u001b[0m\u001b[0m\n\u001b[0m\u001b[1;32m      3\u001b[0m     \u001b[0;32mfor\u001b[0m \u001b[0mc\u001b[0m \u001b[0;32min\u001b[0m \u001b[0mrange\u001b[0m\u001b[0;34m(\u001b[0m\u001b[0;36m1\u001b[0m\u001b[0;34m,\u001b[0m \u001b[0mD1\u001b[0m\u001b[0;34m.\u001b[0m\u001b[0mshape\u001b[0m\u001b[0;34m[\u001b[0m\u001b[0;36m1\u001b[0m\u001b[0;34m]\u001b[0m\u001b[0;34m)\u001b[0m\u001b[0;34m:\u001b[0m\u001b[0;34m\u001b[0m\u001b[0;34m\u001b[0m\u001b[0m\n\u001b[1;32m      4\u001b[0m         \u001b[0mwp_tmp\u001b[0m\u001b[0;34m,\u001b[0m \u001b[0mendCol_tmp\u001b[0m\u001b[0;34m,\u001b[0m \u001b[0mendCost_tmp\u001b[0m \u001b[0;34m=\u001b[0m \u001b[0mDTW_GetPath\u001b[0m\u001b[0;34m(\u001b[0m\u001b[0mD1\u001b[0m\u001b[0;34m[\u001b[0m\u001b[0;34m:\u001b[0m\u001b[0mr\u001b[0m\u001b[0;34m+\u001b[0m\u001b[0;36m1\u001b[0m\u001b[0;34m,\u001b[0m\u001b[0;34m:\u001b[0m\u001b[0mc\u001b[0m\u001b[0;34m+\u001b[0m\u001b[0;36m1\u001b[0m\u001b[0;34m]\u001b[0m\u001b[0;34m,\u001b[0m \u001b[0ms1\u001b[0m\u001b[0;34m,\u001b[0m \u001b[0mparameters1\u001b[0m\u001b[0;34m)\u001b[0m\u001b[0;34m\u001b[0m\u001b[0;34m\u001b[0m\u001b[0m\n\u001b[1;32m      5\u001b[0m         \u001b[0mwp1_backtrace_list\u001b[0m\u001b[0;34m.\u001b[0m\u001b[0mappend\u001b[0m\u001b[0;34m(\u001b[0m\u001b[0mwp_tmp\u001b[0m\u001b[0;34m)\u001b[0m\u001b[0;34m\u001b[0m\u001b[0;34m\u001b[0m\u001b[0m\n",
            "\u001b[0;31mNameError\u001b[0m: name 'D1' is not defined"
          ]
        }
      ],
      "source": [
        "wp1_backtrace_list = []\n",
        "for r in range(1, D1.shape[0]):\n",
        "    for c in range(1, D1.shape[1]):\n",
        "        wp_tmp, endCol_tmp, endCost_tmp = DTW_GetPath(D1[:r+1,:c+1], s1, parameters1)\n",
        "        wp1_backtrace_list.append(wp_tmp)"
      ]
    },
    {
      "cell_type": "markdown",
      "metadata": {},
      "source": [
        "## Idea 3a -- Backtrace with offset"
      ]
    },
    {
      "cell_type": "code",
      "execution_count": 26,
      "metadata": {},
      "outputs": [],
      "source": [
        "count = 0\n",
        "for r in range(D1.shape[0]):\n",
        "    for c in range(D1.shape[1]):\n",
        "        if D1[r,c] != np.inf:\n",
        "            count += 1"
      ]
    },
    {
      "cell_type": "code",
      "execution_count": 27,
      "metadata": {},
      "outputs": [
        {
          "data": {
            "text/plain": [
              "74581532"
            ]
          },
          "execution_count": 27,
          "metadata": {},
          "output_type": "execute_result"
        }
      ],
      "source": [
        "count"
      ]
    },
    {
      "cell_type": "code",
      "execution_count": 22,
      "metadata": {},
      "outputs": [
        {
          "ename": "SyntaxError",
          "evalue": "invalid syntax (<ipython-input-22-d7cd8312fa40>, line 1)",
          "output_type": "error",
          "traceback": [
            "\u001b[0;36m  File \u001b[0;32m\"<ipython-input-22-d7cd8312fa40>\"\u001b[0;36m, line \u001b[0;32m1\u001b[0m\n\u001b[0;31m    wp1[,]\u001b[0m\n\u001b[0m        ^\u001b[0m\n\u001b[0;31mSyntaxError\u001b[0m\u001b[0;31m:\u001b[0m invalid syntax\n"
          ]
        }
      ],
      "source": [
        "wp1[,]"
      ]
    },
    {
      "cell_type": "code",
      "execution_count": null,
      "metadata": {},
      "outputs": [],
      "source": [
        "x, y = wp1[0], wp1[1]\n",
        "delta = 1\n",
        "for r in range(x):\n",
        "    for c in range(y):\n",
        "        wp_delta, endCol_delta, endCost_delta = DTW_GetPath(D1[:r+1,:c], s1, parameters1)\n",
        "        for \n",
        "    \n"
      ]
    },
    {
      "cell_type": "markdown",
      "metadata": {},
      "source": [
        "for r in D1.shape[0]:\n",
        "\n",
        "\n",
        "= DTW_GetPath(D1, s1, parameters1)"
      ]
    },
    {
      "cell_type": "markdown",
      "metadata": {},
      "source": []
    }
  ],
  "metadata": {
    "colab": {
      "provenance": []
    },
    "kernelspec": {
      "display_name": "E207_Spr24",
      "language": "python",
      "name": "e207_spr24"
    },
    "language_info": {
      "codemirror_mode": {
        "name": "ipython",
        "version": 3
      },
      "file_extension": ".py",
      "mimetype": "text/x-python",
      "name": "python",
      "nbconvert_exporter": "python",
      "pygments_lexer": "ipython3",
      "version": "3.11.9"
    }
  },
  "nbformat": 4,
  "nbformat_minor": 0
}
